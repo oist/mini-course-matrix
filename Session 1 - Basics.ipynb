{
 "cells": [
  {
   "cell_type": "markdown",
   "id": "irish-observer",
   "metadata": {},
   "source": [
    "# Mini Course: Matrix Eigendecomposition\n",
    "## Session 1: Basics\n",
    "\n",
    "### Quick matrix tutorial\n",
    "Let's go through Numpy's syntax for matric manipulations "
   ]
  },
  {
   "cell_type": "code",
   "execution_count": null,
   "id": "pleased-explorer",
   "metadata": {},
   "outputs": [],
   "source": [
    "# Install packages if necessary\n",
    "import sys\n",
    "!{sys.executable} -m pip install numpy matplotlib"
   ]
  },
  {
   "cell_type": "code",
   "execution_count": 3,
   "id": "coordinate-florist",
   "metadata": {},
   "outputs": [],
   "source": [
    "import numpy as np\n",
    "import matplotlib.pyplot as plt"
   ]
  },
  {
   "cell_type": "code",
   "execution_count": 4,
   "id": "commercial-viking",
   "metadata": {},
   "outputs": [],
   "source": [
    "# Defining a vector (really, an array)\n",
    "vec = np.array([10, 20, 30])\n",
    "# Defining a matrix (also an array)\n",
    "matrix = np.array([ [1, 2, 3]\n",
    "                  , [4, 5, 6]\n",
    "                  , [7, 8, 9]])\n",
    "\n",
    "# Number of dimensions\n",
    "vec.ndim # 1\n",
    "matrix.ndim # 2\n",
    "\n",
    "# Shape, note: don't write matrix.shape()\n",
    "vec.shape # (3, )\n",
    "matrix.shape # (3, 3)\n",
    "\n",
    "# Get elements\n",
    "matrix[1, 2] # 6\n",
    "matrix[-1, -1] # 9\n",
    "matrix[1, :] # array([4, 5, 6])\n",
    "matrix[:, 1] # array([2, 5, 8])\n",
    "\n",
    "# Matrix Multiplication\n",
    "matrix @ matrix # array([[ 30,  36,  42], [ 66,  81,  96], [102, 126, 150]])\n",
    "matrix @ vec # array([140, 320, 500])\n",
    "\n",
    "# Element-by-element operations\n",
    "matrix * matrix # array([[ 1,  4,  9], [16, 25, 36], [49, 64, 81]])\n",
    "matrix * vec # array([[ 10,  40,  90], [ 40, 100, 180], [ 70, 160, 270]])\n",
    "matrix + matrix # array([[ 2,  4,  6], [ 8, 10, 12], [14, 16, 18]])\n",
    "\n",
    "# Applying a function to elements\n",
    "np.sin(matrix) # array([[ 0.84147098,  0.90929743,  0.14112001], ...)\n",
    "np.exp(matrix) # array([[2.71828183e+00, 7.38905610e+00, 2.00855369e+01], ...)\n",
    "\n",
    "\n",
    "# Matrix operations\n",
    "matrix.T # array([[1, 4, 7], [2, 5, 8], [3, 6, 9]])\n",
    "(matrix + 1j * matrix).conjugate() # array([[1.-1.j, 2.-2.j, 3.-3.j], [4.-4.j, 5.-5.j, 6.-6.j], [7.-7.j, 8.-8.j, 9.-9.j]])\n",
    "matrix.diagonal() # Get diagonal: array([1, 5, 9])\n",
    "np.diag(vec) # Transforms a vector into a diagonal matrix\n",
    "matrix.trace() # 15\n",
    "matrix.sort() # Sorts columns in place\n",
    "matrix.round(14) # Rounds matric elements to 14 significant digits\n"
   ]
  },
  {
   "cell_type": "markdown",
   "id": "exotic-holder",
   "metadata": {},
   "source": [
    "### Eigendecomposition\n",
    "\n",
    "Let's explore eigendecompositions with Python"
   ]
  },
  {
   "cell_type": "code",
   "execution_count": 28,
   "id": "occupied-inspection",
   "metadata": {},
   "outputs": [
    {
     "data": {
      "text/plain": [
       "0.0"
      ]
     },
     "execution_count": 28,
     "metadata": {},
     "output_type": "execute_result"
    }
   ],
   "source": [
    "np.linalg.eigvals(matrix) # array([ 1.61168440e+01, -1.11684397e+00, -1.30367773e-15])\n",
    "np.linalg.eig(matrix) # (array([ 1.61168440e+01, -1.11684397e+00, -1.30367773e-15]), array([[-0.23197069, -0.78583024,  0.40824829],...))\n",
    "\n",
    "# The columns are eigenvectors are normalized\n",
    "(vals, vecs) = np.linalg.eig(matrix)\n",
    "vecs[:, 1] @ vecs[:, 1] # 0.9999999999999997\n",
    "\n",
    "# Multiplying the matrix by an eigenvector gets the same eigenvector multiplied by its eigenvalue\n",
    "(matrix @ vecs[:, 1] - vals[1] * vecs[:, 1]).round(14) # array([-0., -0., -0.])\n",
    "\n",
    "# diag(vals) = inverse(vals) * matrix * diag(vals)\n",
    "(np.linalg.inv(vecs) @ matrix @ vecs - np.diag(vals)).round(14) # array([[ 0.,  0., -0.],  [-0., -0.,  0.],[-0., -0.,  0.]])\n",
    "\n",
    "# matrix = vecs * diag(vals) * inverse(vals)\n",
    "(vecs@  np.diag(vals) @ np.linalg.inv(vecs)  - matrix).round(14)  # array([[ 0.,  0., -0.],  [-0., -0.,  0.],[-0., -0.,  0.]])\n",
    "\n",
    "# Trace of matrix is equal to trace of vals\n",
    "(matrix.trace() - np.diag(vals).trace()).round(14) # 0.0"
   ]
  }
 ],
 "metadata": {
  "kernelspec": {
   "display_name": "Python 3",
   "language": "python",
   "name": "python3"
  },
  "language_info": {
   "codemirror_mode": {
    "name": "ipython",
    "version": 3
   },
   "file_extension": ".py",
   "mimetype": "text/x-python",
   "name": "python",
   "nbconvert_exporter": "python",
   "pygments_lexer": "ipython3",
   "version": "3.9.5"
  }
 },
 "nbformat": 4,
 "nbformat_minor": 5
}
