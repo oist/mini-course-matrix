{
 "cells": [
  {
   "cell_type": "markdown",
   "id": "irish-observer",
   "metadata": {},
   "source": [
    "# Mini Course: Matrix Eigendecomposition\n",
    "## Session 1: Basics\n",
    "\n",
    "### Quick matrix tutorial\n",
    "Let's go through Numpy's syntax for matric manipulations "
   ]
  },
  {
   "cell_type": "code",
   "execution_count": null,
   "id": "pleased-explorer",
   "metadata": {},
   "outputs": [],
   "source": [
    "# Install packages if necessary\n",
    "import sys\n",
    "!{sys.executable} -m pip install numpy matplotlib scipy ipywidgets\n",
    "!{sys.executable} -m jupyter nbextension enable --py widgetsnbextension"
   ]
  },
  {
   "cell_type": "code",
   "execution_count": 4,
   "id": "coordinate-florist",
   "metadata": {},
   "outputs": [],
   "source": [
    "import numpy as np\n",
    "import matplotlib.pyplot as plt\n",
    "import scipy.linalg\n",
    "from ipywidgets import interact, interactive, fixed, interact_manual\n",
    "import ipywidgets as widgets"
   ]
  },
  {
   "cell_type": "code",
   "execution_count": 2,
   "id": "commercial-viking",
   "metadata": {},
   "outputs": [
    {
     "data": {
      "text/plain": [
       "array([[1, 2, 3],\n",
       "       [4, 5, 6],\n",
       "       [7, 8, 9]])"
      ]
     },
     "execution_count": 2,
     "metadata": {},
     "output_type": "execute_result"
    }
   ],
   "source": [
    "# Defining a vector (really, an array)\n",
    "vec = np.array([10, 20, 30])\n",
    "# Defining a matrix (also an array)\n",
    "matrix = np.array([ [1, 2, 3]\n",
    "                  , [4, 5, 6]\n",
    "                  , [7, 8, 9]])\n",
    "\n",
    "# Number of dimensions\n",
    "vec.ndim # 1\n",
    "matrix.ndim # 2\n",
    "\n",
    "# Shape, note: don't write matrix.shape()\n",
    "vec.shape # (3, )\n",
    "matrix.shape # (3, 3)\n",
    "\n",
    "# Get elements\n",
    "matrix[1, 2] # 6\n",
    "matrix[-1, -1] # 9\n",
    "matrix[1, :] # array([4, 5, 6])\n",
    "matrix[:, 1] # array([2, 5, 8])\n",
    "\n",
    "# Matrix Multiplication\n",
    "matrix @ matrix # array([[ 30,  36,  42], [ 66,  81,  96], [102, 126, 150]])\n",
    "matrix @ vec # array([140, 320, 500])\n",
    "\n",
    "# Element-by-element operations\n",
    "matrix * matrix # array([[ 1,  4,  9], [16, 25, 36], [49, 64, 81]])\n",
    "matrix * vec # array([[ 10,  40,  90], [ 40, 100, 180], [ 70, 160, 270]])\n",
    "matrix + matrix # array([[ 2,  4,  6], [ 8, 10, 12], [14, 16, 18]])\n",
    "\n",
    "# Applying a function to elements\n",
    "np.sin(matrix) # array([[ 0.84147098,  0.90929743,  0.14112001], ...)\n",
    "np.exp(matrix) # array([[2.71828183e+00, 7.38905610e+00, 2.00855369e+01], ...)\n",
    "\n",
    "\n",
    "# Matrix operations\n",
    "matrix.T # array([[1, 4, 7], [2, 5, 8], [3, 6, 9]])\n",
    "(matrix + 1j * matrix).conjugate() # array([[1.-1.j, 2.-2.j, 3.-3.j], [4.-4.j, 5.-5.j, 6.-6.j], [7.-7.j, 8.-8.j, 9.-9.j]])\n",
    "matrix.diagonal() # Get diagonal: array([1, 5, 9])\n",
    "np.diag(vec) # Transforms a vector into a diagonal matrix\n",
    "matrix.trace() # 15\n",
    "matrix.sort() # Sorts columns in place\n",
    "matrix.round(14) # Rounds matric elements to 14 significant digits\n"
   ]
  },
  {
   "cell_type": "markdown",
   "id": "exotic-holder",
   "metadata": {},
   "source": [
    "### Eigendecomposition\n",
    "\n",
    "Let's explore eigendecompositions with Python"
   ]
  },
  {
   "cell_type": "code",
   "execution_count": 28,
   "id": "occupied-inspection",
   "metadata": {},
   "outputs": [
    {
     "data": {
      "text/plain": [
       "0.0"
      ]
     },
     "execution_count": 28,
     "metadata": {},
     "output_type": "execute_result"
    }
   ],
   "source": [
    "np.linalg.eigvals(matrix) # array([ 1.61168440e+01, -1.11684397e+00, -1.30367773e-15])\n",
    "np.linalg.eig(matrix) # (array([ 1.61168440e+01, -1.11684397e+00, -1.30367773e-15]), array([[-0.23197069, -0.78583024,  0.40824829],...))\n",
    "\n",
    "# The columns are eigenvectors are normalized\n",
    "(vals, vecs) = np.linalg.eig(matrix)\n",
    "vecs[:, 1] @ vecs[:, 1] # 0.9999999999999997\n",
    "\n",
    "# Multiplying the matrix by an eigenvector gets the same eigenvector multiplied by its eigenvalue\n",
    "(matrix @ vecs[:, 1] - vals[1] * vecs[:, 1]).round(14) # array([-0., -0., -0.])\n",
    "\n",
    "# diag(vals) = inverse(vals) * matrix * diag(vals)\n",
    "(np.linalg.inv(vecs) @ matrix @ vecs - np.diag(vals)).round(14) # array([[ 0.,  0., -0.],  [-0., -0.,  0.],[-0., -0.,  0.]])\n",
    "\n",
    "# matrix = vecs * diag(vals) * inverse(vals)\n",
    "(vecs@  np.diag(vals) @ np.linalg.inv(vecs)  - matrix).round(14)  # array([[ 0.,  0., -0.],  [-0., -0.,  0.],[-0., -0.,  0.]])\n",
    "\n",
    "# Trace of matrix is equal to trace of vals\n",
    "(matrix.trace() - np.diag(vals).trace()).round(14) # 0.0"
   ]
  },
  {
   "cell_type": "markdown",
   "id": "b1b2c172",
   "metadata": {},
   "source": [
    "### Application 1 - Powers of matrices\n",
    "\n",
    "Let's consider the political parties of a small country. There are 3 parties, S, T and U. After each election cycle, some people leave their party for a different one, while some remain. The probability of people switching parties is give by the matrix\n",
    "\n",
    "$$ \n",
    "P = \\left(\n",
    "\\begin{array}\n",
    "0.6 & 0.3 & 0.3 \\\\\n",
    "0.2 & 0.6 & 0.2\\\\\n",
    "0.2 & 0.1 & 0.5\n",
    "\\end{array}\n",
    "\\right)\n",
    "$$\n",
    "\n",
    "The first row can be read as \"60% of people in party S are expected to remain in party S, 30% of people in party T will join S as well as 30% of people from party U\"\n",
    "\n",
    "The first column can be read as \"60% of people in party S are expected to remain in party S, 20% are expected to switch to party T and 20% to party U\". \n",
    "\n",
    "1. Starting with an arbitrary initial population (e.g. $(0.3, 0.5, 0.2)$) for the parties, what will be the population after 1 election cycle?\n",
    "1. What will be the population after 2, 3, 4 election cycle? n election cycles?\n",
    "1. Calculate the population after $n$ election cycles using matrix diagonalization\n",
    "1. What is particular about that population?"
   ]
  },
  {
   "cell_type": "code",
   "execution_count": 46,
   "id": "2bf995d9",
   "metadata": {},
   "outputs": [
    {
     "name": "stdout",
     "output_type": "stream",
     "text": [
      "[0.39 0.4  0.21]\n",
      "[0.417 0.36  0.223]\n",
      "[0.4251 0.344  0.2309]\n",
      "[0.42753 0.3376  0.23487]\n",
      "[0.428259 0.33504  0.236701]\n",
      "\n",
      "Eigenvalues: [1.  0.3 0.4] \n",
      "Eigenvectors:\n",
      " [[ 7.22897396e-01  7.07106781e-01 -4.80740672e-17]\n",
      " [ 5.62253530e-01  1.35149070e-16 -7.07106781e-01]\n",
      " [ 4.01609664e-01 -7.07106781e-01  7.07106781e-01]]\n",
      "After 100 cycles: [0.42857143 0.33333333 0.23809524]\n",
      "\n",
      "First eigenvector normalized to sum to 1: [0.42857143 0.33333333 0.23809524]\n"
     ]
    }
   ],
   "source": [
    "P=np.array([[0.6, 0.3, 0.3], [0.2, 0.6, 0.2], [0.2, 0.1, 0.5]])\n",
    "\n",
    "pop = np.array([.3,.5,.2])\n",
    "\n",
    "print(P @ pop)\n",
    "print(P @ P @ pop)\n",
    "print(P @ P @ P @ pop)\n",
    "print(P @ P @ P @ P @ pop)\n",
    "print(P @ P @ P @ P @ P @ pop)\n",
    "\n",
    "(vals, vecs) = np.linalg.eig(P)\n",
    "print(\"\\nEigenvalues:\", vals, \"\\nEigenvectors:\\n\", vecs)\n",
    "\n",
    "n = 100\n",
    "print(f\"After {n} cycles:\", vecs @ np.diag(vals)**n @ np.linalg.inv(vecs) @ pop )\n",
    "\n",
    "print(\"\\nFirst eigenvector normalized to sum to 1:\", vecs[:, 0] / np.sum(vecs[:, 0]) )"
   ]
  },
  {
   "cell_type": "markdown",
   "id": "2469c128",
   "metadata": {},
   "source": [
    "### Application 2 - Exponential of a function\n",
    "\n",
    "Compute the exponential of a matrix with\n",
    "1. The built-in `scipy.linalg.expm` function\n",
    "1. The eigendecomposition of the matrix\n",
    "and compare the results\n",
    "\n"
   ]
  },
  {
   "cell_type": "code",
   "execution_count": 58,
   "id": "54051efc",
   "metadata": {},
   "outputs": [
    {
     "name": "stdout",
     "output_type": "stream",
     "text": [
      "Built-in: [[1118906.69941319 1374815.06293581 1630724.42645843]\n",
      " [2533881.04189898 3113415.03138057 3692947.02086215]\n",
      " [3948856.38438478 4852012.99982532 5755170.61526587]]\n",
      "\n",
      "Diagonalization [[1118906.30444901 1374816.07413279 1630724.35072365]\n",
      " [2533882.45988323 3113416.40125907 3692946.84336731]\n",
      " [3948856.18397851 4852012.66488614 5755169.64035151]]\n"
     ]
    }
   ],
   "source": [
    "matrix = np.array([ [1, 2, 3]\n",
    "                  , [4, 5, 6]\n",
    "                  , [7, 8, 9]])\n",
    "\n",
    "print(\"Built-in:\", scipy.linalg.expm(matrix))\n",
    "\n",
    "(vals, vecs) = np.linalg.eig(matrix)\n",
    "\n",
    "print(\"\\nDiagonalization\", vecs @ np.exp(np.diag(vals)) @ np.linalg.inv(vecs)  )\n"
   ]
  },
  {
   "cell_type": "markdown",
   "id": "b34c490c",
   "metadata": {},
   "source": [
    "### Application 3 - Geometric transformation interpretation\n"
   ]
  },
  {
   "cell_type": "code",
   "execution_count": 164,
   "id": "cbe7c945",
   "metadata": {},
   "outputs": [
    {
     "data": {
      "image/png": "[encoded data removed]",
      "text/plain": [
       "<Figure size 432x288 with 1 Axes>"
      ]
     },
     "metadata": {
      "needs_background": "light"
     },
     "output_type": "display_data"
    }
   ],
   "source": [
    "line = np.linspace(-5, 5, num = 4)\n",
    "square = np.array([[i, j] for i in line for j in line]).T\n",
    "fig1, ax1 = plt.subplots()\n",
    "ax1.scatter(square[0, :], square[1, :])\n",
    "plt.xlim([-20, 20])\n",
    "plt.ylim([-20, 20])\n",
    "\n",
    "ax1.set_aspect('equal')"
   ]
  },
  {
   "cell_type": "code",
   "execution_count": 143,
   "id": "8998d8b2",
   "metadata": {},
   "outputs": [
    {
     "data": {
      "image/png": "[encoded data removed]",
      "text/plain": [
       "<Figure size 432x288 with 1 Axes>"
      ]
     },
     "metadata": {
      "needs_background": "light"
     },
     "output_type": "display_data"
    }
   ],
   "source": [
    "theta = np.linspace(0, 2 * np.pi, num = 15) \n",
    "x = 10 * np.cos(theta)\n",
    "y = 10 * np.sin(theta)\n",
    "circle = np.array([x, y])\n",
    "\n",
    "fig1, ax1 = plt.subplots()\n",
    "ax1.scatter(circle[0, :], circle[1, :])\n",
    "plt.xlim([-20, 20])\n",
    "plt.ylim([-20, 20])\n",
    "\n",
    "ax1.set_aspect('equal')"
   ]
  },
  {
   "cell_type": "code",
   "execution_count": 166,
   "id": "3a639ec6",
   "metadata": {},
   "outputs": [
    {
     "data": {
      "application/vnd.jupyter.widget-view+json": {
       "model_id": "57b4f28b84ad4d63adfcf6e48dac788d",
       "version_major": 2,
       "version_minor": 0
      },
      "text/plain": [
       "interactive(children=(FloatSlider(value=0.0, description='a', max=1.0), FloatSlider(value=1.0, description='b'…"
      ]
     },
     "metadata": {},
     "output_type": "display_data"
    }
   ],
   "source": [
    "shape = circle\n",
    "shape = square\n",
    "@interact(a=0.0, b=1.0,c=1.0,d= 0.0,t=(0.0, 1.0), eig = False) # x-y inverse\n",
    "#@interact(a=1.0, b=1.0,c=0.0,d= 1.0,t=(0.0, 1.0), eig = False) # x shear - not diagonalizable\n",
    "#@interact(a=2.0, b=0.0,c=0.0,d= 2.0, t=(0.0, 1.0), eig = False) # Identity\n",
    "def g(a, b, c, d, t, eig):\n",
    "    transformation = np.array([[a, b], [c, d]])\n",
    "    print(\"Transformation:\", transformation)\n",
    "    \n",
    "    transformed = transformation @ shape\n",
    "    \n",
    "    intermediate = (1 - t) * shape + t * transformed\n",
    "    \n",
    "    (vals, vecs) = np.linalg.eig(transformation)\n",
    "    print(vals, vecs)\n",
    "    \n",
    "    fig1, ax1 = plt.subplots()\n",
    "    ax1.scatter(shape[0, :], shape[1, :])\n",
    "    ax1.scatter(intermediate[0, :], intermediate[1, :])\n",
    "    for  [x1, y1] in shape.T:\n",
    "        ax1.plot((0, x1), (0, y1), 'skyblue')\n",
    "        plt.xlim([-20, 20])\n",
    "        plt.ylim([-20, 20])\n",
    "    for [x0, y0], [x1, y1] in zip(shape.T,intermediate.T) :\n",
    "        ax1.plot((x0, x1), (y0, y1), 'salmon')\n",
    "        plt.xlim([-20, 20])\n",
    "        plt.ylim([-20, 20])\n",
    "        \n",
    "    plt.xlim([-20, 20])\n",
    "    plt.ylim([-20, 20])\n",
    "    r = 5 # Arrow scale\n",
    "    if eig:\n",
    "        ax1.arrow(0,0,r * vals[0] * vecs[0,0], r * vals[0] * vecs[1,0],head_width=1,head_length=2)\n",
    "        ax1.arrow(0,0,r * vals[1] * vecs[0,1], r * vals[1] * vecs[1,1],head_width=1,head_length=2)\n",
    "    ax1.set_aspect('equal')\n"
   ]
  },
  {
   "cell_type": "code",
   "execution_count": null,
   "id": "e8e22b01",
   "metadata": {},
   "outputs": [],
   "source": []
  }
 ],
 "metadata": {
  "kernelspec": {
   "display_name": "Python 3",
   "language": "python",
   "name": "python3"
  },
  "language_info": {
   "codemirror_mode": {
    "name": "ipython",
    "version": 3
   },
   "file_extension": ".py",
   "mimetype": "text/x-python",
   "name": "python",
   "nbconvert_exporter": "python",
   "pygments_lexer": "ipython3",
   "version": "3.9.5"
  }
 },
 "nbformat": 4,
 "nbformat_minor": 5
}
