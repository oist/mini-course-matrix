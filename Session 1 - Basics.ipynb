{
 "cells": [
  {
   "cell_type": "markdown",
   "id": "irish-observer",
   "metadata": {},
   "source": [
    "# Mini Course: Matrix Eigendecomposition\n",
    "## Session 1: Basics\n",
    "\n",
    "### Quick matrix tutorial\n",
    "Let's go through Numpy's syntax for matric manipulations "
   ]
  },
  {
   "cell_type": "code",
   "execution_count": null,
   "id": "pleased-explorer",
   "metadata": {},
   "outputs": [],
   "source": [
    "# Install packages if necessary\n",
    "import sys\n",
    "!{sys.executable} -m pip install numpy matplotlib scipy ipywidgets pandas\n",
    "!{sys.executable} -m jupyter nbextension enable --py widgetsnbextension"
   ]
  },
  {
   "cell_type": "code",
   "execution_count": null,
   "id": "coordinate-florist",
   "metadata": {},
   "outputs": [],
   "source": [
    "import numpy as np\n",
    "import matplotlib.pyplot as plt\n",
    "import scipy.linalg\n",
    "from ipywidgets import interact, interactive, fixed, interact_manual\n",
    "import ipywidgets as widgets"
   ]
  },
  {
   "cell_type": "code",
   "execution_count": null,
   "id": "commercial-viking",
   "metadata": {},
   "outputs": [],
   "source": [
    "# Defining a vector (really, an array)\n",
    "vec = np.array([10, 20, 30])\n",
    "# Defining a matrix (also an array)\n",
    "matrix = np.array([ [1, 2, 3]\n",
    "                  , [4, 5, 6]\n",
    "                  , [7, 8, 9]])\n",
    "\n",
    "# Number of dimensions\n",
    "vec.ndim # 1\n",
    "matrix.ndim # 2\n",
    "\n",
    "# Shape, note: don't write matrix.shape()\n",
    "vec.shape # (3, )\n",
    "matrix.shape # (3, 3)\n",
    "\n",
    "# Get elements\n",
    "matrix[1, 2] # 6\n",
    "matrix[-1, -1] # 9\n",
    "matrix[1, :] # array([4, 5, 6])\n",
    "matrix[:, 1] # array([2, 5, 8])\n",
    "\n",
    "# Matrix Multiplication\n",
    "matrix @ matrix # array([[ 30,  36,  42], [ 66,  81,  96], [102, 126, 150]])\n",
    "matrix @ vec # array([140, 320, 500])\n",
    "\n",
    "# Element-by-element operations\n",
    "matrix * matrix # array([[ 1,  4,  9], [16, 25, 36], [49, 64, 81]])\n",
    "matrix * vec # array([[ 10,  40,  90], [ 40, 100, 180], [ 70, 160, 270]])\n",
    "matrix + matrix # array([[ 2,  4,  6], [ 8, 10, 12], [14, 16, 18]])\n",
    "\n",
    "# Applying a function to elements\n",
    "np.sin(matrix) # array([[ 0.84147098,  0.90929743,  0.14112001], ...)\n",
    "np.exp(matrix) # array([[2.71828183e+00, 7.38905610e+00, 2.00855369e+01], ...)\n",
    "\n",
    "\n",
    "# Matrix operations\n",
    "matrix.T # array([[1, 4, 7], [2, 5, 8], [3, 6, 9]])\n",
    "(matrix + 1j * matrix).conjugate() # array([[1.-1.j, 2.-2.j, 3.-3.j], [4.-4.j, 5.-5.j, 6.-6.j], [7.-7.j, 8.-8.j, 9.-9.j]])\n",
    "matrix.diagonal() # Get diagonal: array([1, 5, 9])\n",
    "np.diag(vec) # Transforms a vector into a diagonal matrix\n",
    "matrix.trace() # 15\n",
    "matrix.sort() # Sorts columns in place\n",
    "matrix.round(14) # Rounds matric elements to 14 significant digits\n"
   ]
  },
  {
   "cell_type": "markdown",
   "id": "exotic-holder",
   "metadata": {},
   "source": [
    "### Eigendecomposition\n",
    "\n",
    "Let's explore eigendecompositions with Python"
   ]
  },
  {
   "cell_type": "code",
   "execution_count": null,
   "id": "occupied-inspection",
   "metadata": {},
   "outputs": [],
   "source": [
    "np.linalg.eigvals(matrix) # array([ 1.61168440e+01, -1.11684397e+00, -1.30367773e-15])\n",
    "np.linalg.eig(matrix) # (array([ 1.61168440e+01, -1.11684397e+00, -1.30367773e-15]), array([[-0.23197069, -0.78583024,  0.40824829],...))\n",
    "\n",
    "# The columns are eigenvectors are normalized\n",
    "(vals, vecs) = np.linalg.eig(matrix)\n",
    "vecs[:, 1] @ vecs[:, 1] # 0.9999999999999997\n",
    "\n",
    "# Multiplying the matrix by an eigenvector gets the same eigenvector multiplied by its eigenvalue\n",
    "(matrix @ vecs[:, 1] - vals[1] * vecs[:, 1]).round(14) # array([-0., -0., -0.])\n",
    "\n",
    "# diag(vals) = inverse(vals) * matrix * diag(vals)\n",
    "(np.linalg.inv(vecs) @ matrix @ vecs - np.diag(vals)).round(14) # array([[ 0.,  0., -0.],  [-0., -0.,  0.],[-0., -0.,  0.]])\n",
    "\n",
    "# matrix = vecs * diag(vals) * inverse(vals)\n",
    "(vecs@  np.diag(vals) @ np.linalg.inv(vecs)  - matrix).round(14)  # array([[ 0.,  0., -0.],  [-0., -0.,  0.],[-0., -0.,  0.]])\n",
    "\n",
    "# Trace of matrix is equal to trace of vals\n",
    "(matrix.trace() - np.diag(vals).trace()).round(14) # 0.0"
   ]
  },
  {
   "cell_type": "markdown",
   "id": "b1b2c172",
   "metadata": {},
   "source": [
    "### Application 1 - Powers of matrices\n",
    "\n",
    "Let's consider the political parties of a small country. There are 3 parties, S, T and U. After each election cycle, some people leave their party for a different one, while some remain. The probability of people switching parties is give by the matrix\n",
    "\n",
    "$$ \n",
    "P = \\left(\n",
    "\\begin{array}\n",
    "0.6 & 0.3 & 0.3 \\\\\n",
    "0.2 & 0.6 & 0.2\\\\\n",
    "0.2 & 0.1 & 0.5\n",
    "\\end{array}\n",
    "\\right)\n",
    "$$\n",
    "\n",
    "The first row can be read as \"60% of people in party S are expected to remain in party S, 30% of people in party T will join S as well as 30% of people from party U\"\n",
    "\n",
    "The first column can be read as \"60% of people in party S are expected to remain in party S, 20% are expected to switch to party T and 20% to party U\". \n",
    "\n",
    "1. Starting with an arbitrary initial population (e.g. $(0.3, 0.5, 0.2)$) for the parties, what will be the population after 1 election cycle?\n",
    "1. What will be the population after 2, 3, 4 election cycle? n election cycles?\n",
    "1. Calculate the population after $n$ election cycles using matrix diagonalization\n",
    "1. What is particular about that population?"
   ]
  },
  {
   "cell_type": "code",
   "execution_count": null,
   "id": "2bf995d9",
   "metadata": {},
   "outputs": [],
   "source": []
  },
  {
   "cell_type": "markdown",
   "id": "2469c128",
   "metadata": {},
   "source": [
    "### Application 2 - Exponential of a function\n",
    "\n",
    "Compute the exponential of a matrix with\n",
    "1. The built-in `scipy.linalg.expm` function\n",
    "1. The eigendecomposition of the matrix\n",
    "and compare the results\n",
    "\n"
   ]
  },
  {
   "cell_type": "code",
   "execution_count": null,
   "id": "54051efc",
   "metadata": {},
   "outputs": [],
   "source": []
  },
  {
   "cell_type": "markdown",
   "id": "b34c490c",
   "metadata": {},
   "source": [
    "### Application 3 - Geometric transformation interpretation\n"
   ]
  },
  {
   "cell_type": "code",
   "execution_count": null,
   "id": "cbe7c945",
   "metadata": {},
   "outputs": [],
   "source": [
    "line = np.linspace(-5, 5, num = 4)\n",
    "square = np.array([[i, j] for i in line for j in line]).T\n",
    "fig1, ax1 = plt.subplots()\n",
    "ax1.scatter(square[0, :], square[1, :])\n",
    "plt.xlim([-20, 20])\n",
    "plt.ylim([-20, 20])\n",
    "\n",
    "ax1.set_aspect('equal')"
   ]
  },
  {
   "cell_type": "code",
   "execution_count": null,
   "id": "f705a6b5",
   "metadata": {},
   "outputs": [],
   "source": [
    "theta = np.linspace(0, 2 * np.pi, num = 15) \n",
    "x = 10 * np.cos(theta)\n",
    "y = 10 * np.sin(theta)\n",
    "circle = np.array([x, y])\n",
    "\n",
    "fig1, ax1 = plt.subplots()\n",
    "ax1.scatter(circle[0, :], circle[1, :])\n",
    "plt.xlim([-20, 20])\n",
    "plt.ylim([-20, 20])\n",
    "\n",
    "ax1.set_aspect('equal')"
   ]
  },
  {
   "cell_type": "code",
   "execution_count": null,
   "id": "3a639ec6",
   "metadata": {},
   "outputs": [],
   "source": [
    "shape = circle\n",
    "shape = square\n",
    "@interact(a=0.0, b=1.0,c=1.0,d= 0.0,t=(0.0, 1.0), eig = False) # x-y inverse\n",
    "#@interact(a=1.0, b=1.0,c=0.0,d= 1.0,t=(0.0, 1.0), eig = False) # x shear - not diagonalizable\n",
    "#@interact(a=2.0, b=0.0,c=0.0,d= 2.0, t=(0.0, 1.0), eig = False) # Identity\n",
    "def g(a, b, c, d, t, eig):\n",
    "    transformation = np.array([[a, b], [c, d]])\n",
    "    print(\"Transformation:\", transformation)\n",
    "    \n",
    "    transformed = transformation @ shape\n",
    "    \n",
    "    intermediate = (1 - t) * shape + t * transformed\n",
    "    \n",
    "    (vals, vecs) = np.linalg.eig(transformation)\n",
    "    print(vals, vecs)\n",
    "    \n",
    "    fig1, ax1 = plt.subplots()\n",
    "    ax1.scatter(shape[0, :], shape[1, :])\n",
    "    ax1.scatter(intermediate[0, :], intermediate[1, :])\n",
    "    for  [x1, y1] in shape.T:\n",
    "        ax1.plot((0, x1), (0, y1), 'skyblue')\n",
    "        plt.xlim([-20, 20])\n",
    "        plt.ylim([-20, 20])\n",
    "    for [x0, y0], [x1, y1] in zip(shape.T,intermediate.T) :\n",
    "        ax1.plot((x0, x1), (y0, y1), 'salmon')\n",
    "        plt.xlim([-20, 20])\n",
    "        plt.ylim([-20, 20])\n",
    "        \n",
    "    plt.xlim([-20, 20])\n",
    "    plt.ylim([-20, 20])\n",
    "    r = 5 # Arrow scale\n",
    "    if eig:\n",
    "        ax1.arrow(0,0,r * vals[0] * vecs[0,0], r * vals[0] * vecs[1,0],head_width=1,head_length=2)\n",
    "        ax1.arrow(0,0,r * vals[1] * vecs[0,1], r * vals[1] * vecs[1,1],head_width=1,head_length=2)\n",
    "    ax1.set_aspect('equal')\n"
   ]
  },
  {
   "cell_type": "code",
   "execution_count": null,
   "id": "3bbd1d39",
   "metadata": {},
   "outputs": [],
   "source": []
  }
 ],
 "metadata": {
  "kernelspec": {
   "display_name": "Python 3",
   "language": "python",
   "name": "python3"
  },
  "language_info": {
   "codemirror_mode": {
    "name": "ipython",
    "version": 3
   },
   "file_extension": ".py",
   "mimetype": "text/x-python",
   "name": "python",
   "nbconvert_exporter": "python",
   "pygments_lexer": "ipython3",
   "version": "3.9.5"
  }
 },
 "nbformat": 4,
 "nbformat_minor": 5
}
